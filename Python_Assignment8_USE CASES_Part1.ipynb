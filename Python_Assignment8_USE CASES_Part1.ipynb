{
 "cells": [
  {
   "cell_type": "markdown",
   "metadata": {},
   "source": [
    "1. Write a Python program which accepts a list named : randomList = ['a', 0, 2]. Use exception handling using try-catch which gives the output as:\n",
    "Output:\n",
    "1) If the List element is a alphabet or string, the output will be\n",
    "The entry is a\n",
    "Oops! <class 'ValueError'> occured.\n",
    "Next entry.\n",
    "2) If the List element is “0”,the output will be\n",
    "The entry is 0\n",
    "Oops! <class '  '> occured.\n",
    "Next entry.\n",
    "3) If the List element is and integer except 0,then output will be:\n",
    "The entry is 2\n",
    "The reciprocal of 2 is 0.5 // reciprocal of an integer"
   ]
  },
  {
   "cell_type": "code",
   "execution_count": 1,
   "metadata": {},
   "outputs": [
    {
     "name": "stdout",
     "output_type": "stream",
     "text": [
      "The entry is a\n",
      "Oops! <class 'ValueError'> occured.\n",
      "Next entry.\n",
      "\n",
      "The entry is 0\n",
      "Oops! <class 'ZeroDivisionError'> occured.\n",
      "Next entry.\n",
      "\n",
      "The entry is 2\n",
      "The reciprocal of 2 is 0.5\n"
     ]
    }
   ],
   "source": [
    "import sys\n",
    "randomList = [\"a\", 0, 2]\n",
    "\n",
    "for i in randomList:\n",
    "    try:\n",
    "        print(\"The entry is\", i)\n",
    "        r = 1/int(i)\n",
    "        break\n",
    "    except:\n",
    "        print(\"Oops!\", sys.exc_info()[0], \"occured.\")\n",
    "        print(\"Next entry.\")\n",
    "        print()\n",
    "\n",
    "print(\"The reciprocal of\", i, \"is\", r)"
   ]
  },
  {
   "cell_type": "markdown",
   "metadata": {},
   "source": [
    "2. Array out of Bound Exception\n",
    "Write a Python program to give exception “Array Out of Bound” if the user wants to access the elements beyond the list size (use try and except)"
   ]
  },
  {
   "cell_type": "code",
   "execution_count": 2,
   "metadata": {},
   "outputs": [
    {
     "name": "stdout",
     "output_type": "stream",
     "text": [
      "1\n",
      "Exception: Array Out of Bound\n"
     ]
    }
   ],
   "source": [
    "list_random_numbers = [1, 2, 3, 4, 5]\n",
    "\n",
    "try:\n",
    "    print(list_random_numbers[0])\n",
    "    print(list_random_numbers[10])\n",
    "except IndexError as error:\n",
    "    print(\"Exception: Array Out of Bound\")"
   ]
  },
  {
   "cell_type": "markdown",
   "metadata": {},
   "source": [
    "3. Write a python module script that contains fib2() method to calculate the Fibonacci series till 1000 and save it as fibo.py.\n",
    "Note : The module created as fibo.py has to be placed in lib folder\n",
    "For linux/ubuntu path = /home/anaconda/lib/python3\n",
    "For Windows path = C:/Users/Ajit/Anaconda3/Lib"
   ]
  },
  {
   "cell_type": "code",
   "execution_count": 4,
   "metadata": {},
   "outputs": [],
   "source": [
    "def fibo(n):\n",
    "    sequence = []\n",
    "    a, b = 0, 1\n",
    "    while b < n:\n",
    "        sequence.append(b)\n",
    "        a, b = b, a + b\n",
    "\n",
    "    return sequence"
   ]
  },
  {
   "cell_type": "markdown",
   "metadata": {},
   "source": [
    "This file can be saved as fibo.py, Function fibo() can be used generate Fibonacci series after importing file."
   ]
  },
  {
   "cell_type": "markdown",
   "metadata": {},
   "source": [
    "4. Write a python module script that contains ispalindrome() method to calculate the input string as palindrome string or not and save it as palindrome.py"
   ]
  },
  {
   "cell_type": "code",
   "execution_count": 5,
   "metadata": {},
   "outputs": [],
   "source": [
    "def ispalindrome(s):\n",
    "    if s[::-1] == s:\n",
    "        return True\n",
    "    else:\n",
    "        return False\n"
   ]
  },
  {
   "cell_type": "code",
   "execution_count": null,
   "metadata": {},
   "outputs": [],
   "source": [
    "# This file can be saved as palindrome.py, Function ispalindrome() can be used to check palindrome string after importing file."
   ]
  },
  {
   "cell_type": "markdown",
   "metadata": {},
   "source": [
    "5. Write a program in Python with one class called Cipher. Within the constructor of this class, ask user for a string and store it. \n",
    "Use a static variable, key to store a randomly generated integer between 1 and 50 inclusive. \n",
    "Implement two methods, encrypt and decrypt within this class. \n",
    "Encrypt generates and prints a cipher text using the user-entered string and the key and ecrypt generates decrypted string from ciphertext. \n",
    "The cipher only encrypts alpha and numeric (A-Z, a-z, 0-9). All Symbols, such as - , ; %, remain unencrypted.\n",
    "The cipher text can have special characters. Use generator expression to filter out alpha and numeric characters of the input string and to generate cipher text. \n",
    "Create an instance of this class, encrypt and decrypt back the user entered string."
   ]
  },
  {
   "cell_type": "code",
   "execution_count": 6,
   "metadata": {},
   "outputs": [
    {
     "name": "stdout",
     "output_type": "stream",
     "text": [
      "Input any string: \"DATA SCIENCE-ACADGUILD\"\n",
      "Text =  \"DATA SCIENCE-ACADGUILD\"\n",
      "Encrypted =  xLIBIvAKQMVKMiIKILOCQTLx\n",
      "Decrypted =  pDATAnSCIENCEaACADGUILDp\n"
     ]
    }
   ],
   "source": [
    "import random\n",
    "\n",
    "class Cipher():\n",
    "    key = random.randint(1,51)\n",
    "\n",
    "    def __init__(self, text):\n",
    "        self.text = text\n",
    "        self.encrypted_text = \"\"\n",
    "\n",
    "    def encrypt(self):\n",
    "        result = \"\"\n",
    "        for i in range(len(self.text)):\n",
    "            char = self.text[i]\n",
    "            if (char.isupper()):\n",
    "                result += chr((ord(char) + Cipher.key - 65) % 26 + 65)\n",
    "            else:\n",
    "                result += chr((ord(char) + Cipher.key - 97) % 26 + 97)\n",
    "\n",
    "        self.encrypted_text = result\n",
    "        return self.encrypted_text\n",
    "\n",
    "    def decrypt(self):\n",
    "        result = \"\"\n",
    "        for i in range(len(self.encrypted_text)):\n",
    "            char = self.encrypted_text[i]\n",
    "            if (char.isupper()):\n",
    "                result += chr((ord(char) - Cipher.key - 65) % 26 + 65)\n",
    "            else:\n",
    "                result += chr((ord(char) - Cipher.key - 97) % 26 + 97)\n",
    "\n",
    "        return result\n",
    "\n",
    "text = input(\"Input any string: \")\n",
    "print(\"Text = \", text)\n",
    "\n",
    "c = Cipher(text)\n",
    "print(\"Encrypted = \", c.encrypt())\n",
    "print(\"Decrypted = \", c.decrypt())"
   ]
  }
 ],
 "metadata": {
  "kernelspec": {
   "display_name": "Python 3",
   "language": "python",
   "name": "python3"
  },
  "language_info": {
   "codemirror_mode": {
    "name": "ipython",
    "version": 3
   },
   "file_extension": ".py",
   "mimetype": "text/x-python",
   "name": "python",
   "nbconvert_exporter": "python",
   "pygments_lexer": "ipython3",
   "version": "3.7.1"
  }
 },
 "nbformat": 4,
 "nbformat_minor": 2
}
